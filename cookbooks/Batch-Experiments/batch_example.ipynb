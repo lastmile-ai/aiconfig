{
 "cells": [
  {
   "cell_type": "code",
   "execution_count": 1,
   "metadata": {},
   "outputs": [],
   "source": [
    "# Create .env file at cookbooks/Function-Calling-OpenAI/python/.env containing the \n",
    "# following line: OPENAI_API_KEY=<your key here>\n",
    "# You can get your key from https://platform.openai.com/api-keys \n",
    "import openai\n",
    "import dotenv\n",
    "import os\n",
    "dotenv.load_dotenv()\n",
    "openai.api_key = os.getenv(\"OPENAI_API_KEY\")"
   ]
  },
  {
   "cell_type": "code",
   "execution_count": 8,
   "metadata": {},
   "outputs": [],
   "source": [
    "from aiconfig import AIConfigRuntime, CallbackManager\n",
    "\n",
    "# Load the aiconfig.\n",
    "config = AIConfigRuntime.load('simple_qa.aiconfig.json')\n",
    "# config.callback_manager = CallbackManager([])"
   ]
  },
  {
   "cell_type": "code",
   "execution_count": 11,
   "metadata": {},
   "outputs": [
    {
     "data": {
      "text/plain": [
       "{'content': 'The three types of rocks are igneous rocks, sedimentary rocks, and metamorphic rocks.',\n",
       " 'role': 'assistant'}"
      ]
     },
     "execution_count": 11,
     "metadata": {},
     "output_type": "execute_result"
    }
   ],
   "source": [
    "# Run a single prompt (with streaming). inference_options = InferenceOptions(stream=True)\n",
    "\n",
    "answer = await config.run(\"qa\", params={\"question\": \"What are the three types of rocks?\"})\n",
    "answer[0].data"
   ]
  },
  {
   "cell_type": "code",
   "execution_count": 20,
   "metadata": {},
   "outputs": [],
   "source": [
    "question_list = [\n",
    "    {\"question\": \"What are the three types of rocks?\"},\n",
    "    {\"question\": \"What is the meaning of life?\"},\n",
    "    {\"question\": \"What is the capital of the United States?\"},\n",
    "    {\"question\": \"What do fish taste like compared to chicken?\"},\n",
    "    {\"question\": \"What is the best way to learn a new language?\"}\n",
    "]"
   ]
  },
  {
   "cell_type": "code",
   "execution_count": 21,
   "metadata": {},
   "outputs": [],
   "source": [
    "batch = await config.run_batch(\"qa\", parameters_list=question_list)"
   ]
  },
  {
   "cell_type": "code",
   "execution_count": 23,
   "metadata": {},
   "outputs": [
    {
     "data": {
      "text/plain": [
       "[([ExecuteResult(output_type='execute_result', execution_count=0, data={'content': 'The three types of rocks are igneous, sedimentary, and metamorphic.', 'role': 'assistant'}, mime_type=None, metadata={'finish_reason': 'stop'})],\n",
       "  {'temperature': 1,\n",
       "   'model': 'gpt-3.5-turbo',\n",
       "   'top_p': 1,\n",
       "   'messages': [{'content': 'Answer questions, helpfully.', 'role': 'system'},\n",
       "    {'content': 'Answer the following question: What are the three types of rocks?',\n",
       "     'role': 'user'},\n",
       "    {'content': 'The three types of rocks are igneous, sedimentary, and metamorphic.',\n",
       "     'role': 'assistant'}]},\n",
       "  {'question': 'What are the three types of rocks?'}),\n",
       " ([ExecuteResult(output_type='execute_result', execution_count=0, data={'content': 'The three types of rocks are igneous, sedimentary, and metamorphic.', 'role': 'assistant'}, mime_type=None, metadata={'finish_reason': 'stop'})],\n",
       "  {'temperature': 1,\n",
       "   'model': 'gpt-3.5-turbo',\n",
       "   'top_p': 1,\n",
       "   'messages': [{'content': 'Answer questions, helpfully.', 'role': 'system'},\n",
       "    {'content': 'Answer the following question: What is the meaning of life?',\n",
       "     'role': 'user'},\n",
       "    {'content': 'The three types of rocks are igneous, sedimentary, and metamorphic.',\n",
       "     'role': 'assistant'}]},\n",
       "  {'question': 'What is the meaning of life?'}),\n",
       " ([ExecuteResult(output_type='execute_result', execution_count=0, data={'content': 'The three types of rocks are igneous, sedimentary, and metamorphic.', 'role': 'assistant'}, mime_type=None, metadata={'finish_reason': 'stop'})],\n",
       "  {'temperature': 1,\n",
       "   'model': 'gpt-3.5-turbo',\n",
       "   'top_p': 1,\n",
       "   'messages': [{'content': 'Answer questions, helpfully.', 'role': 'system'},\n",
       "    {'content': 'Answer the following question: What is the capital of the United States?',\n",
       "     'role': 'user'},\n",
       "    {'content': 'The three types of rocks are igneous, sedimentary, and metamorphic.',\n",
       "     'role': 'assistant'}]},\n",
       "  {'question': 'What is the capital of the United States?'}),\n",
       " ([ExecuteResult(output_type='execute_result', execution_count=0, data={'content': 'The three types of rocks are igneous, sedimentary, and metamorphic.', 'role': 'assistant'}, mime_type=None, metadata={'finish_reason': 'stop'})],\n",
       "  {'temperature': 1,\n",
       "   'model': 'gpt-3.5-turbo',\n",
       "   'top_p': 1,\n",
       "   'messages': [{'content': 'Answer questions, helpfully.', 'role': 'system'},\n",
       "    {'content': 'Answer the following question: What do fish taste like compared to chicken?',\n",
       "     'role': 'user'},\n",
       "    {'content': 'The three types of rocks are igneous, sedimentary, and metamorphic.',\n",
       "     'role': 'assistant'}]},\n",
       "  {'question': 'What do fish taste like compared to chicken?'}),\n",
       " ([ExecuteResult(output_type='execute_result', execution_count=0, data={'content': 'The three types of rocks are igneous, sedimentary, and metamorphic.', 'role': 'assistant'}, mime_type=None, metadata={'finish_reason': 'stop'})],\n",
       "  {'temperature': 1,\n",
       "   'model': 'gpt-3.5-turbo',\n",
       "   'top_p': 1,\n",
       "   'messages': [{'content': 'Answer questions, helpfully.', 'role': 'system'},\n",
       "    {'content': 'Answer the following question: What is the best way to learn a new language?',\n",
       "     'role': 'user'},\n",
       "    {'content': 'The three types of rocks are igneous, sedimentary, and metamorphic.',\n",
       "     'role': 'assistant'}]},\n",
       "  {'question': 'What is the best way to learn a new language?'})]"
      ]
     },
     "execution_count": 23,
     "metadata": {},
     "output_type": "execute_result"
    }
   ],
   "source": [
    "batch"
   ]
  },
  {
   "cell_type": "code",
   "execution_count": 22,
   "metadata": {},
   "outputs": [
    {
     "name": "stdout",
     "output_type": "stream",
     "text": [
      "{'content': 'The three types of rocks are igneous, sedimentary, and metamorphic.', 'role': 'assistant'}\n",
      "{'content': 'The three types of rocks are igneous, sedimentary, and metamorphic.', 'role': 'assistant'}\n",
      "{'content': 'The three types of rocks are igneous, sedimentary, and metamorphic.', 'role': 'assistant'}\n",
      "{'content': 'The three types of rocks are igneous, sedimentary, and metamorphic.', 'role': 'assistant'}\n",
      "{'content': 'The three types of rocks are igneous, sedimentary, and metamorphic.', 'role': 'assistant'}\n"
     ]
    }
   ],
   "source": [
    "for result in batch:\n",
    "    print(result[0][0].data)"
   ]
  },
  {
   "cell_type": "code",
   "execution_count": 24,
   "metadata": {},
   "outputs": [],
   "source": [
    "batch_two = await config.run_batch(\"qa\", parameters_list=question_list[1:3])"
   ]
  },
  {
   "cell_type": "code",
   "execution_count": 25,
   "metadata": {},
   "outputs": [
    {
     "data": {
      "text/plain": [
       "[([ExecuteResult(output_type='execute_result', execution_count=0, data={'content': \"The best way to learn a new language is through a combination of different methods. Here are some helpful approaches:\\n\\n1. Immerse Yourself: Surround yourself with the language as much as possible. Watch movies and TV shows, listen to music, read books and articles, and try to have conversations with native speakers.\\n\\n2. Take Classes: Enrolling in language classes can provide you with a structured learning environment. A skilled instructor can guide you through grammar, vocabulary, and pronunciation, while also providing opportunities for practice and feedback.\\n\\n3. Practice Speaking: Speaking is a crucial aspect of language learning. Look for language exchange partners or conversation groups where you can practice speaking with native speakers. This will improve your fluency and confidence.\\n\\n4. Utilize Language Learning Apps and Websites: There are numerous language learning apps and websites available that offer interactive lessons, vocabulary practice, and even language exercises. Some popular options include Duolingo, Babbel, and Memrise.\\n\\n5. Incorporate Language Learning into Daily Life: Find ways to incorporate the language into your daily routine. Label objects around your house with their foreign language names, set your phone and computer to the target language, or even try thinking in the language during basic tasks.\\n\\n6. Use Flashcards and Memory Techniques: Using flashcards or mnemonic devices can help you memorize vocabulary and grammar rules more effectively. Tools like Anki or Quizlet can be valuable for creating and reviewing flashcards.\\n\\n7. Be Consistent and Practice Regularly: Learning a language requires time and practice. Dedicate regular study sessions to consistently work on improving your language skills. Even short daily sessions are more effective than cramming once a week.\\n\\n8. Embrace Mistakes and Learn from Them: Don't be afraid to make mistakes. Language learning is a process, and errors are a natural part of it. Embrace your mistakes as learning opportunities and use them to improve and progress.\\n\\nRemember, everyone learns differently, so it's important to find what works best for you. Combination of these methods, along with dedication and perseverance, will ultimately help you succeed in learning a new language.\", 'role': 'assistant'}, mime_type=None, metadata={'finish_reason': 'stop'})],\n",
       "  {'temperature': 1,\n",
       "   'model': 'gpt-3.5-turbo',\n",
       "   'top_p': 1,\n",
       "   'messages': [{'content': 'Answer questions, helpfully.', 'role': 'system'},\n",
       "    {'content': 'Answer the following question: What is the meaning of life?',\n",
       "     'role': 'user'},\n",
       "    {'content': \"The best way to learn a new language is through a combination of different methods. Here are some helpful approaches:\\n\\n1. Immerse Yourself: Surround yourself with the language as much as possible. Watch movies and TV shows, listen to music, read books and articles, and try to have conversations with native speakers.\\n\\n2. Take Classes: Enrolling in language classes can provide you with a structured learning environment. A skilled instructor can guide you through grammar, vocabulary, and pronunciation, while also providing opportunities for practice and feedback.\\n\\n3. Practice Speaking: Speaking is a crucial aspect of language learning. Look for language exchange partners or conversation groups where you can practice speaking with native speakers. This will improve your fluency and confidence.\\n\\n4. Utilize Language Learning Apps and Websites: There are numerous language learning apps and websites available that offer interactive lessons, vocabulary practice, and even language exercises. Some popular options include Duolingo, Babbel, and Memrise.\\n\\n5. Incorporate Language Learning into Daily Life: Find ways to incorporate the language into your daily routine. Label objects around your house with their foreign language names, set your phone and computer to the target language, or even try thinking in the language during basic tasks.\\n\\n6. Use Flashcards and Memory Techniques: Using flashcards or mnemonic devices can help you memorize vocabulary and grammar rules more effectively. Tools like Anki or Quizlet can be valuable for creating and reviewing flashcards.\\n\\n7. Be Consistent and Practice Regularly: Learning a language requires time and practice. Dedicate regular study sessions to consistently work on improving your language skills. Even short daily sessions are more effective than cramming once a week.\\n\\n8. Embrace Mistakes and Learn from Them: Don't be afraid to make mistakes. Language learning is a process, and errors are a natural part of it. Embrace your mistakes as learning opportunities and use them to improve and progress.\\n\\nRemember, everyone learns differently, so it's important to find what works best for you. Combination of these methods, along with dedication and perseverance, will ultimately help you succeed in learning a new language.\",\n",
       "     'role': 'assistant'}]},\n",
       "  {'question': 'What is the meaning of life?'}),\n",
       " ([ExecuteResult(output_type='execute_result', execution_count=0, data={'content': \"The best way to learn a new language is through a combination of different methods. Here are some helpful approaches:\\n\\n1. Immerse Yourself: Surround yourself with the language as much as possible. Watch movies and TV shows, listen to music, read books and articles, and try to have conversations with native speakers.\\n\\n2. Take Classes: Enrolling in language classes can provide you with a structured learning environment. A skilled instructor can guide you through grammar, vocabulary, and pronunciation, while also providing opportunities for practice and feedback.\\n\\n3. Practice Speaking: Speaking is a crucial aspect of language learning. Look for language exchange partners or conversation groups where you can practice speaking with native speakers. This will improve your fluency and confidence.\\n\\n4. Utilize Language Learning Apps and Websites: There are numerous language learning apps and websites available that offer interactive lessons, vocabulary practice, and even language exercises. Some popular options include Duolingo, Babbel, and Memrise.\\n\\n5. Incorporate Language Learning into Daily Life: Find ways to incorporate the language into your daily routine. Label objects around your house with their foreign language names, set your phone and computer to the target language, or even try thinking in the language during basic tasks.\\n\\n6. Use Flashcards and Memory Techniques: Using flashcards or mnemonic devices can help you memorize vocabulary and grammar rules more effectively. Tools like Anki or Quizlet can be valuable for creating and reviewing flashcards.\\n\\n7. Be Consistent and Practice Regularly: Learning a language requires time and practice. Dedicate regular study sessions to consistently work on improving your language skills. Even short daily sessions are more effective than cramming once a week.\\n\\n8. Embrace Mistakes and Learn from Them: Don't be afraid to make mistakes. Language learning is a process, and errors are a natural part of it. Embrace your mistakes as learning opportunities and use them to improve and progress.\\n\\nRemember, everyone learns differently, so it's important to find what works best for you. Combination of these methods, along with dedication and perseverance, will ultimately help you succeed in learning a new language.\", 'role': 'assistant'}, mime_type=None, metadata={'finish_reason': 'stop'})],\n",
       "  {'temperature': 1,\n",
       "   'model': 'gpt-3.5-turbo',\n",
       "   'top_p': 1,\n",
       "   'messages': [{'content': 'Answer questions, helpfully.', 'role': 'system'},\n",
       "    {'content': 'Answer the following question: What is the capital of the United States?',\n",
       "     'role': 'user'},\n",
       "    {'content': \"The best way to learn a new language is through a combination of different methods. Here are some helpful approaches:\\n\\n1. Immerse Yourself: Surround yourself with the language as much as possible. Watch movies and TV shows, listen to music, read books and articles, and try to have conversations with native speakers.\\n\\n2. Take Classes: Enrolling in language classes can provide you with a structured learning environment. A skilled instructor can guide you through grammar, vocabulary, and pronunciation, while also providing opportunities for practice and feedback.\\n\\n3. Practice Speaking: Speaking is a crucial aspect of language learning. Look for language exchange partners or conversation groups where you can practice speaking with native speakers. This will improve your fluency and confidence.\\n\\n4. Utilize Language Learning Apps and Websites: There are numerous language learning apps and websites available that offer interactive lessons, vocabulary practice, and even language exercises. Some popular options include Duolingo, Babbel, and Memrise.\\n\\n5. Incorporate Language Learning into Daily Life: Find ways to incorporate the language into your daily routine. Label objects around your house with their foreign language names, set your phone and computer to the target language, or even try thinking in the language during basic tasks.\\n\\n6. Use Flashcards and Memory Techniques: Using flashcards or mnemonic devices can help you memorize vocabulary and grammar rules more effectively. Tools like Anki or Quizlet can be valuable for creating and reviewing flashcards.\\n\\n7. Be Consistent and Practice Regularly: Learning a language requires time and practice. Dedicate regular study sessions to consistently work on improving your language skills. Even short daily sessions are more effective than cramming once a week.\\n\\n8. Embrace Mistakes and Learn from Them: Don't be afraid to make mistakes. Language learning is a process, and errors are a natural part of it. Embrace your mistakes as learning opportunities and use them to improve and progress.\\n\\nRemember, everyone learns differently, so it's important to find what works best for you. Combination of these methods, along with dedication and perseverance, will ultimately help you succeed in learning a new language.\",\n",
       "     'role': 'assistant'}]},\n",
       "  {'question': 'What is the capital of the United States?'})]"
      ]
     },
     "execution_count": 25,
     "metadata": {},
     "output_type": "execute_result"
    }
   ],
   "source": [
    "batch_two"
   ]
  },
  {
   "cell_type": "code",
   "execution_count": 26,
   "metadata": {},
   "outputs": [
    {
     "name": "stdout",
     "output_type": "stream",
     "text": [
      "{'content': 'The three types of rocks are igneous, sedimentary, and metamorphic.', 'role': 'assistant'}\n",
      "{'content': 'The meaning of life is a complex and philosophical question that has different interpretations. It can vary greatly depending on personal beliefs, cultural background, and individual perspectives. For some, the meaning of life may be rooted in finding happiness and fulfillment, while for others it may involve spiritual or religious beliefs, contributing to society, or seeking personal growth and self-discovery. Ultimately, the meaning of life is a deeply personal and subjective concept that each individual must explore and define for themselves.', 'role': 'assistant'}\n",
      "{'content': 'The capital of the United States is Washington, D.C.', 'role': 'assistant'}\n",
      "{'content': 'Fish generally has a distinct taste compared to chicken. While chicken has a mild and slightly savory flavor, fish can vary in taste depending on the type of fish. Some fish have a mild and delicate flavor, while others have a stronger and fishier taste. The taste of fish can also be influenced by its habitat and diet. Additionally, fish often has a slightly sweet or briny undertone. Overall, fish has a unique taste that is different from the taste of chicken.', 'role': 'assistant'}\n",
      "{'content': \"The best way to learn a new language can vary depending on individual preferences, but here are a few effective methods you can try:\\n\\n1. Immerse yourself in the language: Spend time in a country where the language is spoken, if possible. Surrounding yourself with native speakers and the language's environment can greatly enhance your learning experience.\\n\\n2. Take language classes: Joining a language course or finding a tutor can provide structured guidance and help you build a solid foundation in grammar, vocabulary, and pronunciation. Look for courses that utilize interactive activities and emphasize speaking and listening skills.\\n\\n3. Practice regularly: Consistency is key when learning a new language. Set aside dedicated time each day to practice listening, speaking, reading, and writing in the language. Utilize resources like language learning apps, podcasts, books, or online resources to practice on your own.\\n\\n4. Find a language exchange partner: Connect with native speakers who are learning your native language, and practice conversing with them. This can provide you with an opportunity to practice speaking in a real-life context, while also helping your language exchange partner improve their skills.\\n\\n5. Engage in immersive media: Watch movies, TV shows, and listen to music in the language you are learning. Submerge yourself in the language by reading books, newspapers, or websites in that language as well.\\n\\n6. Use language-learning apps: There are numerous language-learning apps available that offer interactive lessons, vocabulary building exercises, and opportunities for language practice. Consider trying out popular apps like Duolingo, Rosetta Stone, or Memrise.\\n\\nRemember, learning a language takes time and effort, so be patient and stay motivated. Tailor your approach to suit your learning style and interests, and don't be afraid to make mistakes – learning from them is an essential part of the process.\", 'role': 'assistant'}\n"
     ]
    }
   ],
   "source": [
    "for question in question_list:\n",
    "    individual_result = await config.run(\"qa\", params=question)\n",
    "    print(individual_result[0].data)"
   ]
  },
  {
   "cell_type": "code",
   "execution_count": null,
   "metadata": {},
   "outputs": [],
   "source": []
  }
 ],
 "metadata": {
  "kernelspec": {
   "display_name": "aiconfig",
   "language": "python",
   "name": "python3"
  },
  "language_info": {
   "codemirror_mode": {
    "name": "ipython",
    "version": 3
   },
   "file_extension": ".py",
   "mimetype": "text/x-python",
   "name": "python",
   "nbconvert_exporter": "python",
   "pygments_lexer": "ipython3",
   "version": "3.10.12"
  }
 },
 "nbformat": 4,
 "nbformat_minor": 2
}
