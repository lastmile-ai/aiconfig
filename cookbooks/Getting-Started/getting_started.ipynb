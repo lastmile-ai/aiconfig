{
  "cells": [
    {
      "attachments": {},
      "cell_type": "markdown",
      "metadata": {
        "id": "kNmnUZnUFzt3"
      },
      "source": [
        "# Installation and Setup"
      ]
    },
    {
      "cell_type": "code",
      "execution_count": null,
      "metadata": {
        "id": "sq9uM4ENFStR"
      },
      "outputs": [],
      "source": [
        "!pip install python-aiconfig\n",
        "\n",
        "# Create .env file at aiconfig/.env containing the following line:\n",
        "# OPENAI_API_KEY=<your key here>\n",
        "# You can get your key from https://platform.openai.com/api-keys \n",
        "import openai\n",
        "import dotenv\n",
        "import os\n",
        "dotenv.load_dotenv()\n",
        "openai.api_key = os.getenv(\"OPENAI_API_KEY\")"
      ]
    },
    {
      "attachments": {},
      "cell_type": "markdown",
      "metadata": {
        "id": "-FMlVH2bF4iN"
      },
      "source": [
        "## Load AI Config `travel.aiconfig.json`\n",
        "Download file [from here](https://github.com/lastmile-ai/aiconfig/blob/main/cookbooks/Getting-Started/travel.aiconfig.json). Upload to 'Files' in your colab notebook and load (shown below).\n"
      ]
    },
    {
      "cell_type": "code",
      "execution_count": 30,
      "metadata": {
        "id": "go9T1xivF4S2"
      },
      "outputs": [],
      "source": [
        "from aiconfig import AIConfigRuntime, InferenceOptions, CallbackManager\n",
        "\n",
        "# Load the aiconfig.\n",
        "config = AIConfigRuntime.load('travel.aiconfig.json')\n",
        "config.callback_manager = CallbackManager([])"
      ]
    },
    {
      "attachments": {},
      "cell_type": "markdown",
      "metadata": {
        "id": "zqCchve9GINL"
      },
      "source": [
        "# Run `get_activities` prompt with streaming\n",
        "\n",
        "\n"
      ]
    },
    {
      "cell_type": "code",
      "execution_count": 31,
      "metadata": {
        "colab": {
          "base_uri": "https://localhost:8080/"
        },
        "id": "Kd6BFPGiHPJe",
        "outputId": "f221e835-0d96-4cdc-dc3e-0908c0943955"
      },
      "outputs": [
        {
          "name": "stdout",
          "output_type": "stream",
          "text": [
            "1. Visit Central Park: Take a leisurely stroll, rent a bike, have a picnic or simply relax in the beautiful setting of Central Park.\n",
            "2. Explore Times Square: Revel in the vibrant atmosphere, bright lights, and iconic billboards of Times Square, and catch a Broadway show if you can.\n",
            "3. Walk the Brooklyn Bridge: Enjoy stunning views of the Manhattan skyline while walking across the famous Brooklyn Bridge.\n",
            "4. Visit the Statue of Liberty: Take a ferry ride to Liberty Island and get up close to the iconic Statue of Liberty, a symbol of freedom and democracy.\n",
            "5. Explore the Metropolitan Museum of Art: Discover one of the world's largest art museums, showcasing a vast collection of artwork spanning various periods and cultures.\n",
            "6. Ride to the Top of the Empire State Building: Take in the breathtaking views of New York City's skyline from the observation decks of the iconic Empire State Building.\n",
            "7. Experience the High Line: Walk along this elevated park built on an old railway track, offering unique views of the city and beautiful green spaces.\n",
            "8. Discover the Museum of Modern Art (MoMA): Explore the vast collection of modern and contemporary art at this renowned museum, showcasing works by artists like Van Gogh, Warhol, and Picasso.\n",
            "9. Enjoy the lively atmosphere of Chinatown: Explore the bustling streets of Chinatown, try some delicious Asian cuisine, and shop for unique souvenirs.\n",
            "10. Take a ferry to Ellis Island: Visit the Ellis Island Immigration Museum to learn about the history of immigration in the United States and explore the grounds where millions of immigrants entered the country."
          ]
        }
      ],
      "source": [
        "# Run a single prompt (with streaming). inference_options = InferenceOptions(stream=True)\n",
        "\n",
        "inference_options = InferenceOptions(stream=True)\n",
        "activities = await config.run(\"get_activities\", options=inference_options)\n"
      ]
    },
    {
      "attachments": {},
      "cell_type": "markdown",
      "metadata": {
        "id": "5Fgj5w85Sbch"
      },
      "source": [
        "# Run `gen_itinerary` prompt\n"
      ]
    },
    {
      "cell_type": "code",
      "execution_count": 32,
      "metadata": {
        "colab": {
          "base_uri": "https://localhost:8080/"
        },
        "id": "49xN8OiqSeMX",
        "outputId": "624b046a-2812-45b4-f875-e7cc12249845"
      },
      "outputs": [
        {
          "name": "stderr",
          "output_type": "stream",
          "text": [
            "INFO:my-logger:Callback called. event\n",
            ": name='on_run_start' file='aiconfig.Config' data={'prompt_name': 'gen_itinerary', 'params': {'order_by': 'duration'}, 'options': <aiconfig.model_parser.InferenceOptions object at 0x78287ee520e0>, 'kwargs': {'run_with_dependencies': True}} ts_ns=1701177332281242097\n",
            "INFO:my-logger:Callback called. event\n",
            ": name='on_run_start' file='aiconfig.Config' data={'prompt_name': 'get_activities', 'params': {'order_by': 'duration'}, 'options': <aiconfig.model_parser.InferenceOptions object at 0x78287ee520e0>, 'kwargs': {}} ts_ns=1701177332281242097\n",
            "INFO:my-logger:Callback called. event\n",
            ": name='on_run_start' file='aiconfig.default_parsers.openai' data={'prompt': Prompt(name='get_activities', input='Tell me 10 fun attractions to do in NYC.', metadata=None, outputs=[ExecuteResult(output_type='execute_result', execution_count=0, data={'content': \"1. Visit Central Park: Take a leisurely stroll, rent a bike, have a picnic or simply relax in the beautiful setting of Central Park.\\n2. Explore Times Square: Revel in the vibrant atmosphere, bright lights, and iconic billboards of Times Square, and catch a Broadway show if you can.\\n3. Walk the Brooklyn Bridge: Enjoy stunning views of the Manhattan skyline while walking across the famous Brooklyn Bridge.\\n4. Visit the Statue of Liberty: Take a ferry ride to Liberty Island and get up close to the iconic Statue of Liberty, a symbol of freedom and democracy.\\n5. Explore the Metropolitan Museum of Art: Discover one of the world's largest art museums, showcasing a vast collection of artwork spanning various periods and cultures.\\n6. Ride to the Top of the Empire State Building: Take in the breathtaking views of New York City's skyline from the observation decks of the iconic Empire State Building.\\n7. Experience the High Line: Walk along this elevated park built on an old railway track, offering unique views of the city and beautiful green spaces.\\n8. Discover the Museum of Modern Art (MoMA): Explore the vast collection of modern and contemporary art at this renowned museum, showcasing works by artists like Van Gogh, Warhol, and Picasso.\\n9. Enjoy the lively atmosphere of Chinatown: Explore the bustling streets of Chinatown, try some delicious Asian cuisine, and shop for unique souvenirs.\\n10. Take a ferry to Ellis Island: Visit the Ellis Island Immigration Museum to learn about the history of immigration in the United States and explore the grounds where millions of immigrants entered the country.\", 'role': 'assistant'}, mime_type=None, metadata={'finish_reason': 'stop'})]), 'options': <aiconfig.model_parser.InferenceOptions object at 0x78287ee520e0>, 'parameters': {'order_by': 'duration'}} ts_ns=1701177332281242097\n",
            "INFO:my-logger:Callback called. event\n",
            ": name='on_deserialize_start' file='aiconfig.default_parsers.openai' data={'prompt': Prompt(name='get_activities', input='Tell me 10 fun attractions to do in NYC.', metadata=None, outputs=[ExecuteResult(output_type='execute_result', execution_count=0, data={'content': \"1. Visit Central Park: Take a leisurely stroll, rent a bike, have a picnic or simply relax in the beautiful setting of Central Park.\\n2. Explore Times Square: Revel in the vibrant atmosphere, bright lights, and iconic billboards of Times Square, and catch a Broadway show if you can.\\n3. Walk the Brooklyn Bridge: Enjoy stunning views of the Manhattan skyline while walking across the famous Brooklyn Bridge.\\n4. Visit the Statue of Liberty: Take a ferry ride to Liberty Island and get up close to the iconic Statue of Liberty, a symbol of freedom and democracy.\\n5. Explore the Metropolitan Museum of Art: Discover one of the world's largest art museums, showcasing a vast collection of artwork spanning various periods and cultures.\\n6. Ride to the Top of the Empire State Building: Take in the breathtaking views of New York City's skyline from the observation decks of the iconic Empire State Building.\\n7. Experience the High Line: Walk along this elevated park built on an old railway track, offering unique views of the city and beautiful green spaces.\\n8. Discover the Museum of Modern Art (MoMA): Explore the vast collection of modern and contemporary art at this renowned museum, showcasing works by artists like Van Gogh, Warhol, and Picasso.\\n9. Enjoy the lively atmosphere of Chinatown: Explore the bustling streets of Chinatown, try some delicious Asian cuisine, and shop for unique souvenirs.\\n10. Take a ferry to Ellis Island: Visit the Ellis Island Immigration Museum to learn about the history of immigration in the United States and explore the grounds where millions of immigrants entered the country.\", 'role': 'assistant'}, mime_type=None, metadata={'finish_reason': 'stop'})]), 'params': {'order_by': 'duration'}} ts_ns=1701177332281242097\n",
            "INFO:my-logger:Callback called. event\n",
            ": name='on_deserialize_complete' file='aiconfig.default_parsers.openai' data={'output': {'model': 'gpt-3.5-turbo', 'top_p': 1, 'temperature': 1, 'messages': [{'content': 'Tell me 10 fun attractions to do in NYC.', 'role': 'user'}, {'content': \"1. Visit Central Park: Take a leisurely stroll, rent a bike, have a picnic or simply relax in the beautiful setting of Central Park.\\n2. Explore Times Square: Revel in the vibrant atmosphere, bright lights, and iconic billboards of Times Square, and catch a Broadway show if you can.\\n3. Walk the Brooklyn Bridge: Enjoy stunning views of the Manhattan skyline while walking across the famous Brooklyn Bridge.\\n4. Visit the Statue of Liberty: Take a ferry ride to Liberty Island and get up close to the iconic Statue of Liberty, a symbol of freedom and democracy.\\n5. Explore the Metropolitan Museum of Art: Discover one of the world's largest art museums, showcasing a vast collection of artwork spanning various periods and cultures.\\n6. Ride to the Top of the Empire State Building: Take in the breathtaking views of New York City's skyline from the observation decks of the iconic Empire State Building.\\n7. Experience the High Line: Walk along this elevated park built on an old railway track, offering unique views of the city and beautiful green spaces.\\n8. Discover the Museum of Modern Art (MoMA): Explore the vast collection of modern and contemporary art at this renowned museum, showcasing works by artists like Van Gogh, Warhol, and Picasso.\\n9. Enjoy the lively atmosphere of Chinatown: Explore the bustling streets of Chinatown, try some delicious Asian cuisine, and shop for unique souvenirs.\\n10. Take a ferry to Ellis Island: Visit the Ellis Island Immigration Museum to learn about the history of immigration in the United States and explore the grounds where millions of immigrants entered the country.\", 'role': 'assistant'}]}} ts_ns=1701177332281242097\n"
          ]
        },
        {
          "name": "stdout",
          "output_type": "stream",
          "text": [
            "1. Visit the iconic Times Square and immerse yourself in the vibrant atmosphere.\n",
            "2. Take a stroll through Central Park, rent a rowboat, or enjoy a picnic in this beautiful urban oasis.\n",
            "3. Explore the world-famous Metropolitan Museum of Art (the Met) and admire its extensive collection spanning various eras and cultures.\n",
            "4. Ascend to the Top of the Rock Observation Deck at Rockefeller Center for panoramic views of the city.\n",
            "5. Enjoy a Broadway show and experience the excitement of live theater.\n",
            "6. Visit the 9/11 Memorial & Museum to pay tribute to the victims of the World Trade Center attacks and learn about their stories.\n",
            "7. Roam around the charming neighborhoods of SoHo and Greenwich Village, known for their unique boutiques, cafes, and art galleries.\n",
            "8. Take a ferry to Governors Island and enjoy biking, picnicking, or simply relaxing in this peaceful retreat from the city hustle.\n",
            "9. Discover the fascinating exhibits at the American Museum of Natural History, including the dinosaur fossils and the stunning Blue Whale model.\n",
            "10. Indulge in culinary delights by exploring the diverse food scene of NYC, from trendy food halls to iconic pizza joints and Michelin-starred restaurants."
          ]
        },
        {
          "name": "stderr",
          "output_type": "stream",
          "text": [
            "INFO:my-logger:Callback called. event\n",
            ": name='on_run_complete' file='aiconfig.default_parsers.openai' data={'result': [ExecuteResult(output_type='execute_result', execution_count=0, data={'content': '1. Visit the iconic Times Square and immerse yourself in the vibrant atmosphere.\\n2. Take a stroll through Central Park, rent a rowboat, or enjoy a picnic in this beautiful urban oasis.\\n3. Explore the world-famous Metropolitan Museum of Art (the Met) and admire its extensive collection spanning various eras and cultures.\\n4. Ascend to the Top of the Rock Observation Deck at Rockefeller Center for panoramic views of the city.\\n5. Enjoy a Broadway show and experience the excitement of live theater.\\n6. Visit the 9/11 Memorial & Museum to pay tribute to the victims of the World Trade Center attacks and learn about their stories.\\n7. Roam around the charming neighborhoods of SoHo and Greenwich Village, known for their unique boutiques, cafes, and art galleries.\\n8. Take a ferry to Governors Island and enjoy biking, picnicking, or simply relaxing in this peaceful retreat from the city hustle.\\n9. Discover the fascinating exhibits at the American Museum of Natural History, including the dinosaur fossils and the stunning Blue Whale model.\\n10. Indulge in culinary delights by exploring the diverse food scene of NYC, from trendy food halls to iconic pizza joints and Michelin-starred restaurants.', 'role': 'assistant'}, mime_type=None, metadata={'finish_reason': 'stop'})]} ts_ns=1701177332281242097\n",
            "INFO:my-logger:Callback called. event\n",
            ": name='on_run_complete' file='aiconfig.Config' data={'result': [ExecuteResult(output_type='execute_result', execution_count=0, data={'content': '1. Visit the iconic Times Square and immerse yourself in the vibrant atmosphere.\\n2. Take a stroll through Central Park, rent a rowboat, or enjoy a picnic in this beautiful urban oasis.\\n3. Explore the world-famous Metropolitan Museum of Art (the Met) and admire its extensive collection spanning various eras and cultures.\\n4. Ascend to the Top of the Rock Observation Deck at Rockefeller Center for panoramic views of the city.\\n5. Enjoy a Broadway show and experience the excitement of live theater.\\n6. Visit the 9/11 Memorial & Museum to pay tribute to the victims of the World Trade Center attacks and learn about their stories.\\n7. Roam around the charming neighborhoods of SoHo and Greenwich Village, known for their unique boutiques, cafes, and art galleries.\\n8. Take a ferry to Governors Island and enjoy biking, picnicking, or simply relaxing in this peaceful retreat from the city hustle.\\n9. Discover the fascinating exhibits at the American Museum of Natural History, including the dinosaur fossils and the stunning Blue Whale model.\\n10. Indulge in culinary delights by exploring the diverse food scene of NYC, from trendy food halls to iconic pizza joints and Michelin-starred restaurants.', 'role': 'assistant'}, mime_type=None, metadata={'finish_reason': 'stop'})]} ts_ns=1701177332281242097\n",
            "INFO:my-logger:Callback called. event\n",
            ": name='on_run_start' file='aiconfig.Config' data={'prompt_name': 'gen_itinerary', 'params': {'order_by': 'duration'}, 'options': <aiconfig.model_parser.InferenceOptions object at 0x78287ee520e0>, 'kwargs': {}} ts_ns=1701177332281242097\n",
            "INFO:my-logger:Callback called. event\n",
            ": name='on_run_start' file='aiconfig.default_parsers.openai' data={'prompt': Prompt(name='gen_itinerary', input='Generate an itinerary ordered by {{order_by}} for these activities: {{get_activities.output}}.', metadata=PromptMetadata(model='gpt-4', tags=None, parameters={'order_by': 'geographic location'}), outputs=[]), 'options': <aiconfig.model_parser.InferenceOptions object at 0x78287ee520e0>, 'parameters': {'order_by': 'duration'}} ts_ns=1701177332281242097\n",
            "INFO:my-logger:Callback called. event\n",
            ": name='on_deserialize_start' file='aiconfig.default_parsers.openai' data={'prompt': Prompt(name='gen_itinerary', input='Generate an itinerary ordered by {{order_by}} for these activities: {{get_activities.output}}.', metadata=PromptMetadata(model='gpt-4', tags=None, parameters={'order_by': 'geographic location'}), outputs=[]), 'params': {'order_by': 'duration'}} ts_ns=1701177332281242097\n",
            "INFO:my-logger:Callback called. event\n",
            ": name='on_deserialize_complete' file='aiconfig.default_parsers.openai' data={'output': {'model': 'gpt-4', 'max_tokens': 3000, 'messages': [{'content': 'You are an expert travel coordinator with exquisite taste.', 'role': 'system'}, {'content': 'Generate an itinerary ordered by duration for these activities: 1. Visit the iconic Times Square and immerse yourself in the vibrant atmosphere.\\n2. Take a stroll through Central Park, rent a rowboat, or enjoy a picnic in this beautiful urban oasis.\\n3. Explore the world-famous Metropolitan Museum of Art (the Met) and admire its extensive collection spanning various eras and cultures.\\n4. Ascend to the Top of the Rock Observation Deck at Rockefeller Center for panoramic views of the city.\\n5. Enjoy a Broadway show and experience the excitement of live theater.\\n6. Visit the 9/11 Memorial &amp; Museum to pay tribute to the victims of the World Trade Center attacks and learn about their stories.\\n7. Roam around the charming neighborhoods of SoHo and Greenwich Village, known for their unique boutiques, cafes, and art galleries.\\n8. Take a ferry to Governors Island and enjoy biking, picnicking, or simply relaxing in this peaceful retreat from the city hustle.\\n9. Discover the fascinating exhibits at the American Museum of Natural History, including the dinosaur fossils and the stunning Blue Whale model.\\n10. Indulge in culinary delights by exploring the diverse food scene of NYC, from trendy food halls to iconic pizza joints and Michelin-starred restaurants..', 'role': 'user'}]}} ts_ns=1701177332281242097\n"
          ]
        },
        {
          "name": "stdout",
          "output_type": "stream",
          "text": [
            "1. Start your day by visiting the iconic Times Square and immerse yourself in the vibrant atmosphere (Estimated Duration: 1.5 Hours - 8:00 AM to 9:30 AM)\n",
            "2. Take a stroll through Central Park, rent a rowboat, or enjoy a picnic in this beautiful urban oasis (Estimated Duration: 2.5 Hours - 10:00 AM to 12:30 PM)\n",
            "3. Have lunch while exploring the diverse food scene of NYC, from trendy food halls to iconic pizza joints and Michelin-starred restaurants (Estimated Duration: 2 Hours - 1:00 PM to 3:00 PM)\n",
            "4. Spend your early afternoon at the Metropolitan Museum of Art (the Met). Marvel at the extensive collection spanning various eras and cultures (Estimated Duration: 3 Hours - 3:30 PM to 6:30 PM)\n",
            "5. Next, roam around the charming neighborhoods of SoHo and Greenwich Village, known for their unique boutiques, cafes, and art galleries (Estimated Duration: 2 Hours - 7:00 PM to 9:00 PM)\n",
            "6. Begin your second day by visiting the 9/11 Memorial & Museum to pay tribute to the victims of the World Trade Center attacks and learn about their stories (Estimated Duration: 2.5 Hours - 9:00 AM to 11:30 AM)\n",
            "7. Take a ferry to Governors Island and enjoy biking, picnicking, or simply relaxing in this peaceful retreat from the city hustle (Estimated Duration: 3 Hours - 12:00 PM to 3:00 PM)\n",
            "8. Afterwards, visit the American Museum of Natural History. Discover the fascinating exhibits, including the dinosaur fossils and the stunning Blue Whale model (Estimated Duration: 2.5 Hours - 3:30 PM to 6:00 PM)\n",
            "9. Indulge in the local cuisine again with dinner at one of NYC’s most renowned eateries (Estimated Duration: 2 Hours - 6:30 PM to 8:30 PM)\n",
            "10. End your second day by ascending to the Top of the Rock Observation Deck at Rockefeller Center for panoramic views of the city (Estimated Duration: 1.5 Hours - 9:00 PM to 10:30 PM)\n",
            "11. On your final day, relish in a Broadway show and experience the excitement of live theater. (Estimated Duration: 3 Hours - 6:00 PM to 9:00 PM). Spend the rest of your day shopping or exploring the city at your own pace before the show.\n"
          ]
        },
        {
          "name": "stderr",
          "output_type": "stream",
          "text": [
            "INFO:my-logger:Callback called. event\n",
            ": name='on_run_complete' file='aiconfig.default_parsers.openai' data={'result': [ExecuteResult(output_type='execute_result', execution_count=0, data={'content': '1. Start your day by visiting the iconic Times Square and immerse yourself in the vibrant atmosphere (Estimated Duration: 1.5 Hours - 8:00 AM to 9:30 AM)\\n2. Take a stroll through Central Park, rent a rowboat, or enjoy a picnic in this beautiful urban oasis (Estimated Duration: 2.5 Hours - 10:00 AM to 12:30 PM)\\n3. Have lunch while exploring the diverse food scene of NYC, from trendy food halls to iconic pizza joints and Michelin-starred restaurants (Estimated Duration: 2 Hours - 1:00 PM to 3:00 PM)\\n4. Spend your early afternoon at the Metropolitan Museum of Art (the Met). Marvel at the extensive collection spanning various eras and cultures (Estimated Duration: 3 Hours - 3:30 PM to 6:30 PM)\\n5. Next, roam around the charming neighborhoods of SoHo and Greenwich Village, known for their unique boutiques, cafes, and art galleries (Estimated Duration: 2 Hours - 7:00 PM to 9:00 PM)\\n6. Begin your second day by visiting the 9/11 Memorial & Museum to pay tribute to the victims of the World Trade Center attacks and learn about their stories (Estimated Duration: 2.5 Hours - 9:00 AM to 11:30 AM)\\n7. Take a ferry to Governors Island and enjoy biking, picnicking, or simply relaxing in this peaceful retreat from the city hustle (Estimated Duration: 3 Hours - 12:00 PM to 3:00 PM)\\n8. Afterwards, visit the American Museum of Natural History. Discover the fascinating exhibits, including the dinosaur fossils and the stunning Blue Whale model (Estimated Duration: 2.5 Hours - 3:30 PM to 6:00 PM)\\n9. Indulge in the local cuisine again with dinner at one of NYC’s most renowned eateries (Estimated Duration: 2 Hours - 6:30 PM to 8:30 PM)\\n10. End your second day by ascending to the Top of the Rock Observation Deck at Rockefeller Center for panoramic views of the city (Estimated Duration: 1.5 Hours - 9:00 PM to 10:30 PM)\\n11. On your final day, relish in a Broadway show and experience the excitement of live theater. (Estimated Duration: 3 Hours - 6:00 PM to 9:00 PM). Spend the rest of your day shopping or exploring the city at your own pace before the show.\\n', 'role': 'assistant'}, mime_type=None, metadata={'finish_reason': 'stop'})]} ts_ns=1701177332281242097\n",
            "INFO:my-logger:Callback called. event\n",
            ": name='on_run_complete' file='aiconfig.Config' data={'result': [ExecuteResult(output_type='execute_result', execution_count=0, data={'content': '1. Start your day by visiting the iconic Times Square and immerse yourself in the vibrant atmosphere (Estimated Duration: 1.5 Hours - 8:00 AM to 9:30 AM)\\n2. Take a stroll through Central Park, rent a rowboat, or enjoy a picnic in this beautiful urban oasis (Estimated Duration: 2.5 Hours - 10:00 AM to 12:30 PM)\\n3. Have lunch while exploring the diverse food scene of NYC, from trendy food halls to iconic pizza joints and Michelin-starred restaurants (Estimated Duration: 2 Hours - 1:00 PM to 3:00 PM)\\n4. Spend your early afternoon at the Metropolitan Museum of Art (the Met). Marvel at the extensive collection spanning various eras and cultures (Estimated Duration: 3 Hours - 3:30 PM to 6:30 PM)\\n5. Next, roam around the charming neighborhoods of SoHo and Greenwich Village, known for their unique boutiques, cafes, and art galleries (Estimated Duration: 2 Hours - 7:00 PM to 9:00 PM)\\n6. Begin your second day by visiting the 9/11 Memorial & Museum to pay tribute to the victims of the World Trade Center attacks and learn about their stories (Estimated Duration: 2.5 Hours - 9:00 AM to 11:30 AM)\\n7. Take a ferry to Governors Island and enjoy biking, picnicking, or simply relaxing in this peaceful retreat from the city hustle (Estimated Duration: 3 Hours - 12:00 PM to 3:00 PM)\\n8. Afterwards, visit the American Museum of Natural History. Discover the fascinating exhibits, including the dinosaur fossils and the stunning Blue Whale model (Estimated Duration: 2.5 Hours - 3:30 PM to 6:00 PM)\\n9. Indulge in the local cuisine again with dinner at one of NYC’s most renowned eateries (Estimated Duration: 2 Hours - 6:30 PM to 8:30 PM)\\n10. End your second day by ascending to the Top of the Rock Observation Deck at Rockefeller Center for panoramic views of the city (Estimated Duration: 1.5 Hours - 9:00 PM to 10:30 PM)\\n11. On your final day, relish in a Broadway show and experience the excitement of live theater. (Estimated Duration: 3 Hours - 6:00 PM to 9:00 PM). Spend the rest of your day shopping or exploring the city at your own pace before the show.\\n', 'role': 'assistant'}, mime_type=None, metadata={'finish_reason': 'stop'})]} ts_ns=1701177332281242097\n",
            "INFO:my-logger:Callback called. event\n",
            ": name='on_run_complete' file='aiconfig.Config' data={'result': [ExecuteResult(output_type='execute_result', execution_count=0, data={'content': '1. Start your day by visiting the iconic Times Square and immerse yourself in the vibrant atmosphere (Estimated Duration: 1.5 Hours - 8:00 AM to 9:30 AM)\\n2. Take a stroll through Central Park, rent a rowboat, or enjoy a picnic in this beautiful urban oasis (Estimated Duration: 2.5 Hours - 10:00 AM to 12:30 PM)\\n3. Have lunch while exploring the diverse food scene of NYC, from trendy food halls to iconic pizza joints and Michelin-starred restaurants (Estimated Duration: 2 Hours - 1:00 PM to 3:00 PM)\\n4. Spend your early afternoon at the Metropolitan Museum of Art (the Met). Marvel at the extensive collection spanning various eras and cultures (Estimated Duration: 3 Hours - 3:30 PM to 6:30 PM)\\n5. Next, roam around the charming neighborhoods of SoHo and Greenwich Village, known for their unique boutiques, cafes, and art galleries (Estimated Duration: 2 Hours - 7:00 PM to 9:00 PM)\\n6. Begin your second day by visiting the 9/11 Memorial & Museum to pay tribute to the victims of the World Trade Center attacks and learn about their stories (Estimated Duration: 2.5 Hours - 9:00 AM to 11:30 AM)\\n7. Take a ferry to Governors Island and enjoy biking, picnicking, or simply relaxing in this peaceful retreat from the city hustle (Estimated Duration: 3 Hours - 12:00 PM to 3:00 PM)\\n8. Afterwards, visit the American Museum of Natural History. Discover the fascinating exhibits, including the dinosaur fossils and the stunning Blue Whale model (Estimated Duration: 2.5 Hours - 3:30 PM to 6:00 PM)\\n9. Indulge in the local cuisine again with dinner at one of NYC’s most renowned eateries (Estimated Duration: 2 Hours - 6:30 PM to 8:30 PM)\\n10. End your second day by ascending to the Top of the Rock Observation Deck at Rockefeller Center for panoramic views of the city (Estimated Duration: 1.5 Hours - 9:00 PM to 10:30 PM)\\n11. On your final day, relish in a Broadway show and experience the excitement of live theater. (Estimated Duration: 3 Hours - 6:00 PM to 9:00 PM). Spend the rest of your day shopping or exploring the city at your own pace before the show.\\n', 'role': 'assistant'}, mime_type=None, metadata={'finish_reason': 'stop'})]} ts_ns=1701177332281242097\n"
          ]
        }
      ],
      "source": [
        "# This time, let's also add a callback manager to log more detailed events\n",
        "config.callback_manager = CallbackManager([])\n",
        "\n",
        "itinerary = await config.run(\n",
        "    \"gen_itinerary\",\n",
        "    params={\"order_by\": \"duration\"},\n",
        "    run_with_dependencies=True,\n",
        "    options=inference_options)"
      ]
    },
    {
      "attachments": {},
      "cell_type": "markdown",
      "metadata": {
        "id": "7DTy5qLpRxlx"
      },
      "source": [
        "# Add prompt to config"
      ]
    },
    {
      "cell_type": "code",
      "execution_count": 39,
      "metadata": {
        "colab": {
          "base_uri": "https://localhost:8080/"
        },
        "id": "xjdyaO9HRvFr",
        "outputId": "dd6d3b67-88e4-4a8e-b4c4-58919a6a40b1"
      },
      "outputs": [
        {
          "name": "stderr",
          "output_type": "stream",
          "text": [
            "INFO:my-logger:Callback called. event\n",
            ": name='on_serialize_start' file='aiconfig.Config' data={'gpt-3.5-turbo': 'gpt-3.5-turbo', 'data': {'model': 'gpt-3.5-turbo', 'messages': [{'role': 'system', 'content': 'You provide a bulleted list of items to pack for a week long trip.'}, {'role': 'user', 'content': 'What should I bring to {{location}}?'}]}, 'prompt_name': 'gen_packing_list', 'params': {'location': 'nyc'}} ts_ns=1701177332281242097\n",
            "INFO:my-logger:Callback called. event\n",
            ": name='on_serialize_start' file='aiconfig.default_parsers.openai' data={'prompt_name': 'gen_packing_list', 'data': {'model': 'gpt-3.5-turbo', 'messages': [{'role': 'system', 'content': 'You provide a bulleted list of items to pack for a week long trip.'}, {'role': 'user', 'content': 'What should I bring to {{location}}?'}]}, 'parameters': {'location': 'nyc'}, 'kwargs': {}} ts_ns=1701177332281242097\n",
            "INFO:my-logger:Callback called. event\n",
            ": name='on_serialize_complete' file='aiconfig.default_parsers.openai' data={'result': [Prompt(name='gen_packing_list', input='What should I bring to {{location}}?', metadata=PromptMetadata(model=ModelMetadata(name='gpt-3.5-turbo', settings={'system_prompt': {'role': 'system', 'content': 'You provide a bulleted list of items to pack for a week long trip.'}}), tags=None, parameters={'location': 'nyc'}, remember_chat_context=True), outputs=[])]} ts_ns=1701177332281242097\n",
            "INFO:my-logger:Callback called. event\n",
            ": name='on_serialize_complete' file='aiconfig.Config' data={'result': [Prompt(name='gen_packing_list', input='What should I bring to {{location}}?', metadata=PromptMetadata(model=ModelMetadata(name='gpt-3.5-turbo', settings={'system_prompt': {'role': 'system', 'content': 'You provide a bulleted list of items to pack for a week long trip.'}}), tags=None, parameters={'location': 'nyc'}, remember_chat_context=True), outputs=[])]} ts_ns=1701177332281242097\n"
          ]
        }
      ],
      "source": [
        "# Add gen_packing_list as a prompt to config\n",
        "from aiconfig import Prompt\n",
        "model = \"gpt-3.5-turbo\"\n",
        "data = {\n",
        "    \"model\": model,\n",
        "    \"messages\": [\n",
        "        {\n",
        "            \"role\": \"system\",\n",
        "            \"content\": \"You provide a bulleted list of items to pack for a week long trip.\"\n",
        "        },\n",
        "        {\n",
        "            \"role\": \"user\",\n",
        "            \"content\": \"What should I bring to {{location}}?\"\n",
        "        }\n",
        "    ]\n",
        "}\n",
        "\n",
        "new_prompts = await config.serialize(model, data, prompt_name=\"gen_packing_list\", params={\"location\": \"nyc\"})\n",
        "config.add_prompt(prompt_name=\"gen_packing_list\", prompt_data=new_prompts[0])"
      ]
    },
    {
      "cell_type": "code",
      "execution_count": 40,
      "metadata": {
        "colab": {
          "base_uri": "https://localhost:8080/"
        },
        "id": "O9b_n26SsSZt",
        "outputId": "0178d7ae-758e-4135-f452-75ee6ac19c41"
      },
      "outputs": [
        {
          "name": "stderr",
          "output_type": "stream",
          "text": [
            "INFO:my-logger:Callback called. event\n",
            ": name='on_run_start' file='aiconfig.Config' data={'prompt_name': 'gen_packing_list', 'params': None, 'options': <aiconfig.model_parser.InferenceOptions object at 0x78287ee520e0>, 'kwargs': {}} ts_ns=1701177332281242097\n",
            "INFO:my-logger:Callback called. event\n",
            ": name='on_run_start' file='aiconfig.default_parsers.openai' data={'prompt': Prompt(name='gen_packing_list', input='What should I bring to {{location}}?', metadata=PromptMetadata(model=ModelMetadata(name='gpt-3.5-turbo', settings={'system_prompt': {'role': 'system', 'content': 'You provide a bulleted list of items to pack for a week long trip.'}}), tags=None, parameters={'location': 'nyc'}, remember_chat_context=True), outputs=[]), 'options': <aiconfig.model_parser.InferenceOptions object at 0x78287ee520e0>, 'parameters': {}} ts_ns=1701177332281242097\n",
            "INFO:my-logger:Callback called. event\n",
            ": name='on_deserialize_start' file='aiconfig.default_parsers.openai' data={'prompt': Prompt(name='gen_packing_list', input='What should I bring to {{location}}?', metadata=PromptMetadata(model=ModelMetadata(name='gpt-3.5-turbo', settings={'system_prompt': {'role': 'system', 'content': 'You provide a bulleted list of items to pack for a week long trip.'}}), tags=None, parameters={'location': 'nyc'}, remember_chat_context=True), outputs=[]), 'params': {}} ts_ns=1701177332281242097\n",
            "INFO:my-logger:Callback called. event\n",
            ": name='on_deserialize_complete' file='aiconfig.default_parsers.openai' data={'output': {'model': 'gpt-3.5-turbo', 'top_p': 1, 'temperature': 1, 'messages': [{'content': 'You provide a bulleted list of items to pack for a week long trip.', 'role': 'system'}, {'content': 'Tell me 10 fun attractions to do in NYC.', 'role': 'user'}, {'content': '1. Visit the iconic Times Square and immerse yourself in the vibrant atmosphere.\\n2. Take a stroll through Central Park, rent a rowboat, or enjoy a picnic in this beautiful urban oasis.\\n3. Explore the world-famous Metropolitan Museum of Art (the Met) and admire its extensive collection spanning various eras and cultures.\\n4. Ascend to the Top of the Rock Observation Deck at Rockefeller Center for panoramic views of the city.\\n5. Enjoy a Broadway show and experience the excitement of live theater.\\n6. Visit the 9/11 Memorial & Museum to pay tribute to the victims of the World Trade Center attacks and learn about their stories.\\n7. Roam around the charming neighborhoods of SoHo and Greenwich Village, known for their unique boutiques, cafes, and art galleries.\\n8. Take a ferry to Governors Island and enjoy biking, picnicking, or simply relaxing in this peaceful retreat from the city hustle.\\n9. Discover the fascinating exhibits at the American Museum of Natural History, including the dinosaur fossils and the stunning Blue Whale model.\\n10. Indulge in culinary delights by exploring the diverse food scene of NYC, from trendy food halls to iconic pizza joints and Michelin-starred restaurants.', 'role': 'assistant'}, {'content': 'What should I bring to nyc?', 'role': 'user'}]}} ts_ns=1701177332281242097\n"
          ]
        },
        {
          "name": "stdout",
          "output_type": "stream",
          "text": [
            "Here's a list of items you should consider packing for your trip to NYC:\n",
            "\n",
            "1. Comfortable walking shoes: NYC is a city best explored on foot, so be sure to pack comfortable shoes for all the walking you'll be doing.\n",
            "2. Lightweight clothing: Depending on the season, pack layered clothing that can accommodate fluctuating temperatures. Summers can be hot and humid while winters can be cold and snowy.\n",
            "3. Weather-appropriate outerwear: Bring a waterproof jacket or umbrella, especially if you're visiting during the rainy season. In colder months, pack a warm coat, hat, and gloves.\n",
            "4. Daypack or tote bag: Carry a small bag to hold your personal items, snacks, water bottle, and any souvenirs you might pick up during the day.\n",
            "5. Portable phone charger: With all the sightseeing and navigating you'll be doing, it's important to ensure your phone stays charged throughout the day.\n",
            "6. Travel guide or map: Even with smartphones, having a physical map or guidebook can be handy for quick reference or if you lose cell service.\n",
            "7. Camera: Capture the memories of your NYC trip by bringing a camera or using your smartphone camera.\n",
            "8. Portable umbrella or raincoat: Prepare for unexpected rain showers by packing a small, portable umbrella or a lightweight raincoat.\n",
            "9. Hat and sunglasses: NYC is known for its sunny summers, so protect yourself from the sun by bringing a hat and sunglasses.\n",
            "10. Travel essentials: Don't forget to pack your travel documents, such as IDs, hotel confirmations, and any necessary tickets or reservations.\n",
            "\n",
            "Remember to check the weather forecast before your trip to ensure you're prepared for the specific conditions during your stay in NYC."
          ]
        },
        {
          "name": "stderr",
          "output_type": "stream",
          "text": [
            "INFO:my-logger:Callback called. event\n",
            ": name='on_run_complete' file='aiconfig.default_parsers.openai' data={'result': [ExecuteResult(output_type='execute_result', execution_count=0, data={'content': \"Here's a list of items you should consider packing for your trip to NYC:\\n\\n1. Comfortable walking shoes: NYC is a city best explored on foot, so be sure to pack comfortable shoes for all the walking you'll be doing.\\n2. Lightweight clothing: Depending on the season, pack layered clothing that can accommodate fluctuating temperatures. Summers can be hot and humid while winters can be cold and snowy.\\n3. Weather-appropriate outerwear: Bring a waterproof jacket or umbrella, especially if you're visiting during the rainy season. In colder months, pack a warm coat, hat, and gloves.\\n4. Daypack or tote bag: Carry a small bag to hold your personal items, snacks, water bottle, and any souvenirs you might pick up during the day.\\n5. Portable phone charger: With all the sightseeing and navigating you'll be doing, it's important to ensure your phone stays charged throughout the day.\\n6. Travel guide or map: Even with smartphones, having a physical map or guidebook can be handy for quick reference or if you lose cell service.\\n7. Camera: Capture the memories of your NYC trip by bringing a camera or using your smartphone camera.\\n8. Portable umbrella or raincoat: Prepare for unexpected rain showers by packing a small, portable umbrella or a lightweight raincoat.\\n9. Hat and sunglasses: NYC is known for its sunny summers, so protect yourself from the sun by bringing a hat and sunglasses.\\n10. Travel essentials: Don't forget to pack your travel documents, such as IDs, hotel confirmations, and any necessary tickets or reservations.\\n\\nRemember to check the weather forecast before your trip to ensure you're prepared for the specific conditions during your stay in NYC.\", 'role': 'assistant'}, mime_type=None, metadata={'finish_reason': 'stop'})]} ts_ns=1701177332281242097\n",
            "INFO:my-logger:Callback called. event\n",
            ": name='on_run_complete' file='aiconfig.Config' data={'result': [ExecuteResult(output_type='execute_result', execution_count=0, data={'content': \"Here's a list of items you should consider packing for your trip to NYC:\\n\\n1. Comfortable walking shoes: NYC is a city best explored on foot, so be sure to pack comfortable shoes for all the walking you'll be doing.\\n2. Lightweight clothing: Depending on the season, pack layered clothing that can accommodate fluctuating temperatures. Summers can be hot and humid while winters can be cold and snowy.\\n3. Weather-appropriate outerwear: Bring a waterproof jacket or umbrella, especially if you're visiting during the rainy season. In colder months, pack a warm coat, hat, and gloves.\\n4. Daypack or tote bag: Carry a small bag to hold your personal items, snacks, water bottle, and any souvenirs you might pick up during the day.\\n5. Portable phone charger: With all the sightseeing and navigating you'll be doing, it's important to ensure your phone stays charged throughout the day.\\n6. Travel guide or map: Even with smartphones, having a physical map or guidebook can be handy for quick reference or if you lose cell service.\\n7. Camera: Capture the memories of your NYC trip by bringing a camera or using your smartphone camera.\\n8. Portable umbrella or raincoat: Prepare for unexpected rain showers by packing a small, portable umbrella or a lightweight raincoat.\\n9. Hat and sunglasses: NYC is known for its sunny summers, so protect yourself from the sun by bringing a hat and sunglasses.\\n10. Travel essentials: Don't forget to pack your travel documents, such as IDs, hotel confirmations, and any necessary tickets or reservations.\\n\\nRemember to check the weather forecast before your trip to ensure you're prepared for the specific conditions during your stay in NYC.\", 'role': 'assistant'}, mime_type=None, metadata={'finish_reason': 'stop'})]} ts_ns=1701177332281242097\n"
          ]
        }
      ],
      "source": [
        "packing_list = await config.run(\"gen_packing_list\", params=None, options=inference_options)"
      ]
    },
    {
      "attachments": {},
      "cell_type": "markdown",
      "metadata": {
        "id": "q9deFcBK55yN"
      },
      "source": [
        "# 5. Save the AIConfig with outputs\n"
      ]
    },
    {
      "cell_type": "code",
      "execution_count": 37,
      "metadata": {
        "id": "9BR4-nGxSth7"
      },
      "outputs": [],
      "source": [
        "# Save the aiconfig to disk. and serialize outputs from the model run\n",
        "config.save('updated.aiconfig.json', include_outputs=True)"
      ]
    },
    {
      "attachments": {},
      "cell_type": "markdown",
      "metadata": {
        "id": "JLiElYyC6DB-"
      },
      "source": [
        "# 6. Open the AIConfig in AI Workbook Playground\n",
        "1. Download `updated.aiconfig.json`.\n",
        "2. Go to https://lastmileai.dev.\n",
        "3. Go to Workbooks page: https://lastmileai.dev/workbooks.\n",
        "4. Click dropdown '+New Workbook' and select 'Create from AIConfig'\n",
        "5. Upload `updated.aiconfig.json`.\n",
        "\n",
        "Try out the workbook playground here: [NYC Travel Workbook](https://lastmileai.dev/workbooks/clooqs3p200kkpe53u6n2rhr9)"
      ]
    },
    {
      "cell_type": "code",
      "execution_count": null,
      "metadata": {
        "id": "PLpVz4L56GIY"
      },
      "outputs": [],
      "source": []
    }
  ],
  "metadata": {
    "colab": {
      "provenance": []
    },
    "kernelspec": {
      "display_name": "Python 3",
      "name": "python3"
    },
    "language_info": {
      "name": "python",
      "version": "3.11.5"
    }
  },
  "nbformat": 4,
  "nbformat_minor": 0
}
